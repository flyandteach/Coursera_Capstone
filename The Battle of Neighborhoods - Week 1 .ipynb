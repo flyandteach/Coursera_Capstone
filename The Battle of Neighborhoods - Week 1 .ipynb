{
 "cells": [
  {
   "cell_type": "markdown",
   "metadata": {
    "collapsed": true
   },
   "source": [
    "## The Battle of the Neighborhoods - Week 1"
   ]
  },
  {
   "cell_type": "markdown",
   "metadata": {},
   "source": [
    "### Introduction & Business Problem :"
   ]
  },
  {
   "cell_type": "markdown",
   "metadata": {},
   "source": [
    "###  Problem Background:"
   ]
  },
  {
   "cell_type": "markdown",
   "metadata": {},
   "source": [
    "Toronto is the most populous city in Canada thus it provides a combination of a large but competitive market with high operating costs in terms of rent and labor. Thus, new businesses requires careful planning and analysis prior to execution. This analysis will provide an overview of local competition in the coffee marketplace. Considering the coffee business is dominated by global brands and tends to be saturated in urban areas, details about comparable competition and access to heavy customer traffic is paramount to potential success."
   ]
  },
  {
   "cell_type": "markdown",
   "metadata": {},
   "source": [
    "###  Problem Description:"
   ]
  },
  {
   "cell_type": "markdown",
   "metadata": {},
   "source": [
    "Coffee is an omnipresent offering among restaurants, cafes, and coffee-specific venues. Therefore a thorough assessment of the competitive marketplace is critical prior to investment in a new business location. Various factors should be assessed to determine a favorable business location - these include: <Br>\n",
    "1. Population <Br>\n",
    "2. Demographics <Br>\n",
    "2. Are there any coffee shops, bakeries, donut shops, or similar businesses nearby?<Br>\n",
    "3. Are there any indicators of foot traffic in the area such as transit stations, offices, or busy streets? <Br>\n",
    "4. What direct competitors are near the location? <Br>\n",
    "5. Segmentation of the neighborhood <Br>\n",
    "6. Saturation of local market <Br>\n",
    "This list is not comprehensive and could include additional items.\n",
    "    \n",
    "Data will be collected from Foursquare and neighborhood/borough data from the city of Toronto.\n",
    "    \n",
    "As a start-up micro-coffee roaster and cafe, Telegraph Coffee Co. needs to choose a viable location to start its first cafe and storefront. If this is successful they can replicate the same in other similar locations."
   ]
  },
  {
   "cell_type": "markdown",
   "metadata": {},
   "source": [
    "### Target Audience:"
   ]
  },
  {
   "cell_type": "markdown",
   "metadata": {},
   "source": [
    "The target of this report is the management team at Telegraph Coffee Co. Anxious to get a foothold in a busy Canadian market, they have asked for recommended locations in the greater downtown area. The management team also expects to understand the rationale for the recommended site."
   ]
  },
  {
   "cell_type": "markdown",
   "metadata": {},
   "source": [
    "###  Success Criteria:"
   ]
  },
  {
   "cell_type": "markdown",
   "metadata": {},
   "source": [
    "This project will be deemed successful if one or more viable locations are identified and the final report is readily understandable by the management team."
   ]
  }
 ],
 "metadata": {
  "kernelspec": {
   "display_name": "Python 3.6",
   "language": "python",
   "name": "python3"
  },
  "language_info": {
   "codemirror_mode": {
    "name": "ipython",
    "version": 3
   },
   "file_extension": ".py",
   "mimetype": "text/x-python",
   "name": "python",
   "nbconvert_exporter": "python",
   "pygments_lexer": "ipython3",
   "version": "3.6.8"
  }
 },
 "nbformat": 4,
 "nbformat_minor": 1
}
